{
 "cells": [
  {
   "cell_type": "markdown",
   "id": "f0c35fb2",
   "metadata": {},
   "source": [
    "## 1.\tData preprocessing:\n",
    "\n",
    "•\tLoad the Dataset and analyse\n",
    "\n",
    "•\tRemove irrelevant columns like ids, dates, flags, and users.\n",
    "\n",
    "•\tClean the text data by removing noise like special characters, punctuations, and URLs.\n",
    "\n",
    "•\tConvert the text to lowercase and remove stop words.\n",
    "\n",
    "•\tConvert the target column to binary (0 for negative and 1 for positive tweets).\n"
   ]
  },
  {
   "cell_type": "markdown",
   "id": "3db00e46",
   "metadata": {},
   "source": [
    "## Load the Dataset and analyse"
   ]
  },
  {
   "cell_type": "code",
   "execution_count": 59,
   "id": "428fa664",
   "metadata": {},
   "outputs": [],
   "source": [
    "import pandas as pd"
   ]
  },
  {
   "cell_type": "code",
   "execution_count": 60,
   "id": "94c56b8a",
   "metadata": {},
   "outputs": [
    {
     "data": {
      "text/html": [
       "<div>\n",
       "<style scoped>\n",
       "    .dataframe tbody tr th:only-of-type {\n",
       "        vertical-align: middle;\n",
       "    }\n",
       "\n",
       "    .dataframe tbody tr th {\n",
       "        vertical-align: top;\n",
       "    }\n",
       "\n",
       "    .dataframe thead th {\n",
       "        text-align: right;\n",
       "    }\n",
       "</style>\n",
       "<table border=\"1\" class=\"dataframe\">\n",
       "  <thead>\n",
       "    <tr style=\"text-align: right;\">\n",
       "      <th></th>\n",
       "      <th>target</th>\n",
       "      <th>ids</th>\n",
       "      <th>date</th>\n",
       "      <th>flag</th>\n",
       "      <th>user</th>\n",
       "      <th>text</th>\n",
       "    </tr>\n",
       "  </thead>\n",
       "  <tbody>\n",
       "    <tr>\n",
       "      <th>0</th>\n",
       "      <td>0</td>\n",
       "      <td>1467810369</td>\n",
       "      <td>Mon Apr 06 22:19:45 PDT 2009</td>\n",
       "      <td>NO_QUERY</td>\n",
       "      <td>_TheSpecialOne_</td>\n",
       "      <td>@switchfoot http://twitpic.com/2y1zl - Awww, t...</td>\n",
       "    </tr>\n",
       "    <tr>\n",
       "      <th>1</th>\n",
       "      <td>0</td>\n",
       "      <td>1467810672</td>\n",
       "      <td>Mon Apr 06 22:19:49 PDT 2009</td>\n",
       "      <td>NO_QUERY</td>\n",
       "      <td>scotthamilton</td>\n",
       "      <td>is upset that he can't update his Facebook by ...</td>\n",
       "    </tr>\n",
       "    <tr>\n",
       "      <th>2</th>\n",
       "      <td>0</td>\n",
       "      <td>1467810917</td>\n",
       "      <td>Mon Apr 06 22:19:53 PDT 2009</td>\n",
       "      <td>NO_QUERY</td>\n",
       "      <td>mattycus</td>\n",
       "      <td>@Kenichan I dived many times for the ball. Man...</td>\n",
       "    </tr>\n",
       "    <tr>\n",
       "      <th>3</th>\n",
       "      <td>0</td>\n",
       "      <td>1467811184</td>\n",
       "      <td>Mon Apr 06 22:19:57 PDT 2009</td>\n",
       "      <td>NO_QUERY</td>\n",
       "      <td>ElleCTF</td>\n",
       "      <td>my whole body feels itchy and like its on fire</td>\n",
       "    </tr>\n",
       "    <tr>\n",
       "      <th>4</th>\n",
       "      <td>0</td>\n",
       "      <td>1467811193</td>\n",
       "      <td>Mon Apr 06 22:19:57 PDT 2009</td>\n",
       "      <td>NO_QUERY</td>\n",
       "      <td>Karoli</td>\n",
       "      <td>@nationwideclass no, it's not behaving at all....</td>\n",
       "    </tr>\n",
       "  </tbody>\n",
       "</table>\n",
       "</div>"
      ],
      "text/plain": [
       "   target         ids                          date      flag  \\\n",
       "0       0  1467810369  Mon Apr 06 22:19:45 PDT 2009  NO_QUERY   \n",
       "1       0  1467810672  Mon Apr 06 22:19:49 PDT 2009  NO_QUERY   \n",
       "2       0  1467810917  Mon Apr 06 22:19:53 PDT 2009  NO_QUERY   \n",
       "3       0  1467811184  Mon Apr 06 22:19:57 PDT 2009  NO_QUERY   \n",
       "4       0  1467811193  Mon Apr 06 22:19:57 PDT 2009  NO_QUERY   \n",
       "\n",
       "              user                                               text  \n",
       "0  _TheSpecialOne_  @switchfoot http://twitpic.com/2y1zl - Awww, t...  \n",
       "1    scotthamilton  is upset that he can't update his Facebook by ...  \n",
       "2         mattycus  @Kenichan I dived many times for the ball. Man...  \n",
       "3          ElleCTF    my whole body feels itchy and like its on fire   \n",
       "4           Karoli  @nationwideclass no, it's not behaving at all....  "
      ]
     },
     "execution_count": 60,
     "metadata": {},
     "output_type": "execute_result"
    }
   ],
   "source": [
    "Twitter_DF=pd.read_csv(r\"C:\\Users\\91939\\OneDrive\\Desktop\\Mentor_P8\\DATASETS\\TWITTER_SENTIMENT_ANALYSIS.csv\", encoding='latin-1')\n",
    "Twitter_DF.head()"
   ]
  },
  {
   "cell_type": "code",
   "execution_count": 61,
   "id": "a16bdfaa",
   "metadata": {},
   "outputs": [
    {
     "name": "stdout",
     "output_type": "stream",
     "text": [
      "<class 'pandas.core.frame.DataFrame'>\n",
      "RangeIndex: 1600000 entries, 0 to 1599999\n",
      "Data columns (total 6 columns):\n",
      " #   Column  Non-Null Count    Dtype \n",
      "---  ------  --------------    ----- \n",
      " 0   target  1600000 non-null  int64 \n",
      " 1   ids     1600000 non-null  int64 \n",
      " 2   date    1600000 non-null  object\n",
      " 3   flag    1600000 non-null  object\n",
      " 4   user    1600000 non-null  object\n",
      " 5   text    1600000 non-null  object\n",
      "dtypes: int64(2), object(4)\n",
      "memory usage: 73.2+ MB\n"
     ]
    }
   ],
   "source": [
    "Twitter_DF.info()"
   ]
  },
  {
   "cell_type": "markdown",
   "id": "5b071c56",
   "metadata": {},
   "source": [
    "## Remove irrelevant columns like ids, dates, flags, and users."
   ]
  },
  {
   "cell_type": "code",
   "execution_count": 62,
   "id": "e038f68d",
   "metadata": {},
   "outputs": [
    {
     "name": "stdout",
     "output_type": "stream",
     "text": [
      "   target                                               text\n",
      "0       0  @switchfoot http://twitpic.com/2y1zl - Awww, t...\n",
      "1       0  is upset that he can't update his Facebook by ...\n",
      "2       0  @Kenichan I dived many times for the ball. Man...\n",
      "3       0    my whole body feels itchy and like its on fire \n",
      "4       0  @nationwideclass no, it's not behaving at all....\n",
      "5       0                      @Kwesidei not the whole crew \n",
      "6       0                                        Need a hug \n",
      "7       0  @LOLTrish hey  long time no see! Yes.. Rains a...\n",
      "8       0               @Tatiana_K nope they didn't have it \n",
      "9       0                          @twittera que me muera ? \n"
     ]
    }
   ],
   "source": [
    "# Remove the irrelevant columns using the drop() method\n",
    "Twitter_DF = Twitter_DF.drop(['ids', 'date', 'flag', 'user'], axis=1)\n",
    "\n",
    "# Print the first few rows of the cleaned dataframe\n",
    "print(Twitter_DF.head(10))"
   ]
  },
  {
   "cell_type": "markdown",
   "id": "3abeee58",
   "metadata": {},
   "source": [
    "### Clean the text data by removing noise like special characters, punctuations, and URLs."
   ]
  },
  {
   "cell_type": "code",
   "execution_count": 63,
   "id": "156f7c63",
   "metadata": {},
   "outputs": [
    {
     "name": "stdout",
     "output_type": "stream",
     "text": [
      "   target                                               text\n",
      "0       0  switchfoot   awww thats a bummer  you shoulda ...\n",
      "1       0  is upset that he cant update his facebook by t...\n",
      "2       0  kenichan i dived many times for the ball manag...\n",
      "3       0    my whole body feels itchy and like its on fire \n",
      "4       0  nationwideclass no its not behaving at all im ...\n"
     ]
    }
   ],
   "source": [
    "import re\n",
    "# Define a function to clean the text data\n",
    "def clean_text(text):\n",
    "    # Remove URLs\n",
    "    text = re.sub(r'http\\S+', '', text)\n",
    "    # Remove special characters and punctuation\n",
    "    text = re.sub(r'[^\\w\\s]', '', text)\n",
    "    # Remove numbers\n",
    "    text = re.sub(r'\\d+', '', text)\n",
    "    # Convert to lowercase\n",
    "    text = text.lower()\n",
    "    return text\n",
    "\n",
    "# Apply the clean_text function to the 'text' column\n",
    "Twitter_DF['text'] = Twitter_DF['text'].apply(clean_text)\n",
    "\n",
    "# Print the first few rows of the cleaned dataframe\n",
    "print(Twitter_DF.head())"
   ]
  },
  {
   "cell_type": "markdown",
   "id": "0b8f7f7b",
   "metadata": {},
   "source": [
    "## Convert the text to lowercase and remove stop words."
   ]
  },
  {
   "cell_type": "code",
   "execution_count": 64,
   "id": "f596b740",
   "metadata": {},
   "outputs": [],
   "source": [
    "stopwords = [\n",
    "    'i', 'me', 'my', 'myself', 'we', 'our', 'ours', 'ourselves', 'you', 'you\\'re', \n",
    "    'you\\'ve', 'you\\'ll', 'you\\'d', 'your', 'yours', 'yourself', 'yourselves', 'he', \n",
    "    'him', 'his', 'himself', 'she', 'she\\'s', 'her', 'hers', 'herself', 'it', 'it\\'s', \n",
    "    'its', 'itself', 'they', 'them', 'their', 'theirs', 'themselves', 'what', 'which', \n",
    "    'who', 'whom', 'this', 'that', 'that\\'ll', 'these', 'those', 'am', 'is', 'are', \n",
    "    'was', 'were', 'be', 'been', 'being', 'have', 'has', 'had', 'having', 'do', 'does', \n",
    "    'did', 'doing', 'a', 'an', 'the', 'and', 'but', 'if', 'or', 'because', 'as', \n",
    "    'until', 'while', 'of', 'at', 'by', 'for', 'with', 'about', 'against', 'between', \n",
    "    'into', 'through', 'during', 'before', 'after', 'above', 'below', 'to', 'from', \n",
    "    'up', 'down', 'in', 'out', 'on', 'off', 'over', 'under', 'again', 'further', \n",
    "    'then', 'once', 'here', 'there', 'when', 'where', 'why', 'how', 'all', 'any', \n",
    "    'both', 'each', 'few', 'more', 'most', 'other', 'some', 'such', 'no', 'nor', \n",
    "    'not', 'only', 'own', 'same', 'so', 'than', 'too', 'very', 's', 't', 'can', \n",
    "    'will', 'just', 'don', 'don\\'t', 'should', 'should\\'ve', 'now', 'd', 'll', \n",
    "    'm', 'o', 're', 've', 'y', 'ain', 'aren', 'aren\\'t', 'couldn', 'couldn\\'t', \n",
    "    'didn', 'didn\\'t', 'doesn', 'doesn\\'t', 'hadn', 'hadn\\'t', 'hasn', 'hasn\\'t', \n",
    "    'haven', 'haven\\'t', 'isn', 'isn\\'t', 'ma', 'mightn', 'mightn\\'t', 'mustn', \n",
    "    'mustn\\'t', 'needn', 'needn\\'t', 'shan', 'shan\\'t', 'shouldn', 'shouldn\\'t', \n",
    "    'wasn', 'wasn\\'t', 'weren', 'weren\\'t', 'won', 'won\\'t', 'wouldn', 'wouldn\\'t']"
   ]
  },
  {
   "cell_type": "code",
   "execution_count": 65,
   "id": "8dcbdd1a",
   "metadata": {},
   "outputs": [
    {
     "name": "stdout",
     "output_type": "stream",
     "text": [
      "   target                                               text\n",
      "0       0  switchfoot awww thats bummer shoulda got david...\n",
      "1       0  upset cant update facebook texting might cry r...\n",
      "2       0  kenichan dived many times ball managed save re...\n",
      "3       0                   whole body feels itchy like fire\n",
      "4       0           nationwideclass behaving im mad cant see\n"
     ]
    }
   ],
   "source": [
    "import nltk\n",
    "# Define a function to clean and preprocess the text data\n",
    "def preprocess_text(text):\n",
    "    # Convert to lowercase\n",
    "    text = text.lower()\n",
    "    # Tokenize the text into words\n",
    "    words = nltk.word_tokenize(text)\n",
    "    # Remove stop words\n",
    "    words = [word for word in words if not word in stopwords]\n",
    "    # Join the remaining words back into a single string\n",
    "    cleaned_text = ' '.join(words)\n",
    "    return cleaned_text\n",
    "\n",
    "# Apply the preprocess_text function to the 'text' column\n",
    "Twitter_DF['text'] = Twitter_DF['text'].apply(preprocess_text)\n",
    "\n",
    "# Print the first few rows of the cleaned dataframe\n",
    "print(Twitter_DF.head())\n"
   ]
  },
  {
   "cell_type": "code",
   "execution_count": null,
   "id": "a4dda216",
   "metadata": {},
   "outputs": [],
   "source": [
    "#Converting the targrt column to 0, 2 and if 1 then neutral"
   ]
  },
  {
   "cell_type": "code",
   "execution_count": 66,
   "id": "15345449",
   "metadata": {},
   "outputs": [
    {
     "name": "stdout",
     "output_type": "stream",
     "text": [
      "0    800000\n",
      "2    800000\n",
      "Name: final_target, dtype: int64\n"
     ]
    }
   ],
   "source": [
    "Twitter_DF['final_target'] = Twitter_DF['target'].apply(lambda x: 0 if x == 0 else 2 if x == 4 else 1)\n",
    "print(Twitter_DF['final_target'].value_counts())"
   ]
  },
  {
   "cell_type": "code",
   "execution_count": 67,
   "id": "5a2b3e98",
   "metadata": {},
   "outputs": [
    {
     "data": {
      "text/html": [
       "<div>\n",
       "<style scoped>\n",
       "    .dataframe tbody tr th:only-of-type {\n",
       "        vertical-align: middle;\n",
       "    }\n",
       "\n",
       "    .dataframe tbody tr th {\n",
       "        vertical-align: top;\n",
       "    }\n",
       "\n",
       "    .dataframe thead th {\n",
       "        text-align: right;\n",
       "    }\n",
       "</style>\n",
       "<table border=\"1\" class=\"dataframe\">\n",
       "  <thead>\n",
       "    <tr style=\"text-align: right;\">\n",
       "      <th></th>\n",
       "      <th>target</th>\n",
       "      <th>text</th>\n",
       "      <th>final_target</th>\n",
       "    </tr>\n",
       "  </thead>\n",
       "  <tbody>\n",
       "    <tr>\n",
       "      <th>0</th>\n",
       "      <td>0</td>\n",
       "      <td>switchfoot awww thats bummer shoulda got david...</td>\n",
       "      <td>0</td>\n",
       "    </tr>\n",
       "    <tr>\n",
       "      <th>1</th>\n",
       "      <td>0</td>\n",
       "      <td>upset cant update facebook texting might cry r...</td>\n",
       "      <td>0</td>\n",
       "    </tr>\n",
       "    <tr>\n",
       "      <th>2</th>\n",
       "      <td>0</td>\n",
       "      <td>kenichan dived many times ball managed save re...</td>\n",
       "      <td>0</td>\n",
       "    </tr>\n",
       "    <tr>\n",
       "      <th>3</th>\n",
       "      <td>0</td>\n",
       "      <td>whole body feels itchy like fire</td>\n",
       "      <td>0</td>\n",
       "    </tr>\n",
       "    <tr>\n",
       "      <th>4</th>\n",
       "      <td>0</td>\n",
       "      <td>nationwideclass behaving im mad cant see</td>\n",
       "      <td>0</td>\n",
       "    </tr>\n",
       "    <tr>\n",
       "      <th>...</th>\n",
       "      <td>...</td>\n",
       "      <td>...</td>\n",
       "      <td>...</td>\n",
       "    </tr>\n",
       "    <tr>\n",
       "      <th>1599995</th>\n",
       "      <td>4</td>\n",
       "      <td>woke school best feeling ever</td>\n",
       "      <td>2</td>\n",
       "    </tr>\n",
       "    <tr>\n",
       "      <th>1599996</th>\n",
       "      <td>4</td>\n",
       "      <td>thewdbcom cool hear old walt interviews â</td>\n",
       "      <td>2</td>\n",
       "    </tr>\n",
       "    <tr>\n",
       "      <th>1599997</th>\n",
       "      <td>4</td>\n",
       "      <td>ready mojo makeover ask details</td>\n",
       "      <td>2</td>\n",
       "    </tr>\n",
       "    <tr>\n",
       "      <th>1599998</th>\n",
       "      <td>4</td>\n",
       "      <td>happy th birthday boo alll time tupac amaru sh...</td>\n",
       "      <td>2</td>\n",
       "    </tr>\n",
       "    <tr>\n",
       "      <th>1599999</th>\n",
       "      <td>4</td>\n",
       "      <td>happy charitytuesday thenspcc sparkscharity sp...</td>\n",
       "      <td>2</td>\n",
       "    </tr>\n",
       "  </tbody>\n",
       "</table>\n",
       "<p>1600000 rows × 3 columns</p>\n",
       "</div>"
      ],
      "text/plain": [
       "         target                                               text  \\\n",
       "0             0  switchfoot awww thats bummer shoulda got david...   \n",
       "1             0  upset cant update facebook texting might cry r...   \n",
       "2             0  kenichan dived many times ball managed save re...   \n",
       "3             0                   whole body feels itchy like fire   \n",
       "4             0           nationwideclass behaving im mad cant see   \n",
       "...         ...                                                ...   \n",
       "1599995       4                      woke school best feeling ever   \n",
       "1599996       4          thewdbcom cool hear old walt interviews â   \n",
       "1599997       4                    ready mojo makeover ask details   \n",
       "1599998       4  happy th birthday boo alll time tupac amaru sh...   \n",
       "1599999       4  happy charitytuesday thenspcc sparkscharity sp...   \n",
       "\n",
       "         final_target  \n",
       "0                   0  \n",
       "1                   0  \n",
       "2                   0  \n",
       "3                   0  \n",
       "4                   0  \n",
       "...               ...  \n",
       "1599995             2  \n",
       "1599996             2  \n",
       "1599997             2  \n",
       "1599998             2  \n",
       "1599999             2  \n",
       "\n",
       "[1600000 rows x 3 columns]"
      ]
     },
     "execution_count": 67,
     "metadata": {},
     "output_type": "execute_result"
    }
   ],
   "source": [
    "Twitter_DF"
   ]
  },
  {
   "cell_type": "markdown",
   "id": "84f561da",
   "metadata": {},
   "source": [
    "## Target colum distribution overview"
   ]
  },
  {
   "cell_type": "code",
   "execution_count": 68,
   "id": "f5582ddd",
   "metadata": {},
   "outputs": [
    {
     "data": {
      "image/png": "[encoded data removed]",
      "text/plain": [
       "<Figure size 640x480 with 1 Axes>"
      ]
     },
     "metadata": {},
     "output_type": "display_data"
    }
   ],
   "source": [
    "import matplotlib.pyplot as plt\n",
    "# draw histogram for a column in the DataFrame\n",
    "\n",
    "Twitter_DF['final_target'].hist()\n",
    "plt.title('Histogram of final_target column')\n",
    "plt.xlabel('final_target')\n",
    "plt.ylabel('Frequency')\n",
    "plt.show()\n"
   ]
  },
  {
   "cell_type": "code",
   "execution_count": 80,
   "id": "5adc648a",
   "metadata": {},
   "outputs": [],
   "source": [
    "# DATA PRE-PROCESSING OBSERVATIONS\n",
    "\n",
    "# The dataset consists of six columns, with the target feature being the dependent variable.\n",
    "# The dataset does not have any null or missing values.\n",
    "# Features such as IDs, date, flag, and user are not relevant for sentiment analysis and have been removed.\n",
    "# Noise data such as punctuations, special characters, and URLs have been removed.\n",
    "# The text has been converted to lowercase and stopwords have been removed.\n",
    "# As a result of these pre-processing steps, the target column now consists of three values, \n",
    "# 0 for negative, 1 for neutral, and 2 for positive.\n",
    "# The target column has an equal number of positive and negative values, making it a balanced dataset"
   ]
  },
  {
   "cell_type": "code",
   "execution_count": 69,
   "id": "4398e82d",
   "metadata": {},
   "outputs": [
    {
     "data": {
      "text/html": [
       "<div>\n",
       "<style scoped>\n",
       "    .dataframe tbody tr th:only-of-type {\n",
       "        vertical-align: middle;\n",
       "    }\n",
       "\n",
       "    .dataframe tbody tr th {\n",
       "        vertical-align: top;\n",
       "    }\n",
       "\n",
       "    .dataframe thead th {\n",
       "        text-align: right;\n",
       "    }\n",
       "</style>\n",
       "<table border=\"1\" class=\"dataframe\">\n",
       "  <thead>\n",
       "    <tr style=\"text-align: right;\">\n",
       "      <th></th>\n",
       "      <th>target</th>\n",
       "      <th>text</th>\n",
       "      <th>final_target</th>\n",
       "    </tr>\n",
       "  </thead>\n",
       "  <tbody>\n",
       "    <tr>\n",
       "      <th>0</th>\n",
       "      <td>0</td>\n",
       "      <td>switchfoot awww thats bummer shoulda got david...</td>\n",
       "      <td>0</td>\n",
       "    </tr>\n",
       "    <tr>\n",
       "      <th>1</th>\n",
       "      <td>0</td>\n",
       "      <td>upset cant update facebook texting might cry r...</td>\n",
       "      <td>0</td>\n",
       "    </tr>\n",
       "    <tr>\n",
       "      <th>2</th>\n",
       "      <td>0</td>\n",
       "      <td>kenichan dived many times ball managed save re...</td>\n",
       "      <td>0</td>\n",
       "    </tr>\n",
       "    <tr>\n",
       "      <th>3</th>\n",
       "      <td>0</td>\n",
       "      <td>whole body feels itchy like fire</td>\n",
       "      <td>0</td>\n",
       "    </tr>\n",
       "    <tr>\n",
       "      <th>4</th>\n",
       "      <td>0</td>\n",
       "      <td>nationwideclass behaving im mad cant see</td>\n",
       "      <td>0</td>\n",
       "    </tr>\n",
       "    <tr>\n",
       "      <th>...</th>\n",
       "      <td>...</td>\n",
       "      <td>...</td>\n",
       "      <td>...</td>\n",
       "    </tr>\n",
       "    <tr>\n",
       "      <th>1599995</th>\n",
       "      <td>4</td>\n",
       "      <td>woke school best feeling ever</td>\n",
       "      <td>2</td>\n",
       "    </tr>\n",
       "    <tr>\n",
       "      <th>1599996</th>\n",
       "      <td>4</td>\n",
       "      <td>thewdbcom cool hear old walt interviews â</td>\n",
       "      <td>2</td>\n",
       "    </tr>\n",
       "    <tr>\n",
       "      <th>1599997</th>\n",
       "      <td>4</td>\n",
       "      <td>ready mojo makeover ask details</td>\n",
       "      <td>2</td>\n",
       "    </tr>\n",
       "    <tr>\n",
       "      <th>1599998</th>\n",
       "      <td>4</td>\n",
       "      <td>happy th birthday boo alll time tupac amaru sh...</td>\n",
       "      <td>2</td>\n",
       "    </tr>\n",
       "    <tr>\n",
       "      <th>1599999</th>\n",
       "      <td>4</td>\n",
       "      <td>happy charitytuesday thenspcc sparkscharity sp...</td>\n",
       "      <td>2</td>\n",
       "    </tr>\n",
       "  </tbody>\n",
       "</table>\n",
       "<p>1600000 rows × 3 columns</p>\n",
       "</div>"
      ],
      "text/plain": [
       "         target                                               text  \\\n",
       "0             0  switchfoot awww thats bummer shoulda got david...   \n",
       "1             0  upset cant update facebook texting might cry r...   \n",
       "2             0  kenichan dived many times ball managed save re...   \n",
       "3             0                   whole body feels itchy like fire   \n",
       "4             0           nationwideclass behaving im mad cant see   \n",
       "...         ...                                                ...   \n",
       "1599995       4                      woke school best feeling ever   \n",
       "1599996       4          thewdbcom cool hear old walt interviews â   \n",
       "1599997       4                    ready mojo makeover ask details   \n",
       "1599998       4  happy th birthday boo alll time tupac amaru sh...   \n",
       "1599999       4  happy charitytuesday thenspcc sparkscharity sp...   \n",
       "\n",
       "         final_target  \n",
       "0                   0  \n",
       "1                   0  \n",
       "2                   0  \n",
       "3                   0  \n",
       "4                   0  \n",
       "...               ...  \n",
       "1599995             2  \n",
       "1599996             2  \n",
       "1599997             2  \n",
       "1599998             2  \n",
       "1599999             2  \n",
       "\n",
       "[1600000 rows x 3 columns]"
      ]
     },
     "execution_count": 69,
     "metadata": {},
     "output_type": "execute_result"
    }
   ],
   "source": [
    "Twitter_DF"
   ]
  },
  {
   "cell_type": "code",
   "execution_count": 70,
   "id": "2e09e828",
   "metadata": {},
   "outputs": [
    {
     "data": {
      "text/html": [
       "<div>\n",
       "<style scoped>\n",
       "    .dataframe tbody tr th:only-of-type {\n",
       "        vertical-align: middle;\n",
       "    }\n",
       "\n",
       "    .dataframe tbody tr th {\n",
       "        vertical-align: top;\n",
       "    }\n",
       "\n",
       "    .dataframe thead th {\n",
       "        text-align: right;\n",
       "    }\n",
       "</style>\n",
       "<table border=\"1\" class=\"dataframe\">\n",
       "  <thead>\n",
       "    <tr style=\"text-align: right;\">\n",
       "      <th></th>\n",
       "      <th>text</th>\n",
       "      <th>final_target</th>\n",
       "    </tr>\n",
       "  </thead>\n",
       "  <tbody>\n",
       "    <tr>\n",
       "      <th>0</th>\n",
       "      <td>switchfoot awww thats bummer shoulda got david...</td>\n",
       "      <td>0</td>\n",
       "    </tr>\n",
       "    <tr>\n",
       "      <th>1</th>\n",
       "      <td>upset cant update facebook texting might cry r...</td>\n",
       "      <td>0</td>\n",
       "    </tr>\n",
       "    <tr>\n",
       "      <th>2</th>\n",
       "      <td>kenichan dived many times ball managed save re...</td>\n",
       "      <td>0</td>\n",
       "    </tr>\n",
       "    <tr>\n",
       "      <th>3</th>\n",
       "      <td>whole body feels itchy like fire</td>\n",
       "      <td>0</td>\n",
       "    </tr>\n",
       "    <tr>\n",
       "      <th>4</th>\n",
       "      <td>nationwideclass behaving im mad cant see</td>\n",
       "      <td>0</td>\n",
       "    </tr>\n",
       "    <tr>\n",
       "      <th>...</th>\n",
       "      <td>...</td>\n",
       "      <td>...</td>\n",
       "    </tr>\n",
       "    <tr>\n",
       "      <th>1599995</th>\n",
       "      <td>woke school best feeling ever</td>\n",
       "      <td>2</td>\n",
       "    </tr>\n",
       "    <tr>\n",
       "      <th>1599996</th>\n",
       "      <td>thewdbcom cool hear old walt interviews â</td>\n",
       "      <td>2</td>\n",
       "    </tr>\n",
       "    <tr>\n",
       "      <th>1599997</th>\n",
       "      <td>ready mojo makeover ask details</td>\n",
       "      <td>2</td>\n",
       "    </tr>\n",
       "    <tr>\n",
       "      <th>1599998</th>\n",
       "      <td>happy th birthday boo alll time tupac amaru sh...</td>\n",
       "      <td>2</td>\n",
       "    </tr>\n",
       "    <tr>\n",
       "      <th>1599999</th>\n",
       "      <td>happy charitytuesday thenspcc sparkscharity sp...</td>\n",
       "      <td>2</td>\n",
       "    </tr>\n",
       "  </tbody>\n",
       "</table>\n",
       "<p>1600000 rows × 2 columns</p>\n",
       "</div>"
      ],
      "text/plain": [
       "                                                      text  final_target\n",
       "0        switchfoot awww thats bummer shoulda got david...             0\n",
       "1        upset cant update facebook texting might cry r...             0\n",
       "2        kenichan dived many times ball managed save re...             0\n",
       "3                         whole body feels itchy like fire             0\n",
       "4                 nationwideclass behaving im mad cant see             0\n",
       "...                                                    ...           ...\n",
       "1599995                      woke school best feeling ever             2\n",
       "1599996          thewdbcom cool hear old walt interviews â             2\n",
       "1599997                    ready mojo makeover ask details             2\n",
       "1599998  happy th birthday boo alll time tupac amaru sh...             2\n",
       "1599999  happy charitytuesday thenspcc sparkscharity sp...             2\n",
       "\n",
       "[1600000 rows x 2 columns]"
      ]
     },
     "execution_count": 70,
     "metadata": {},
     "output_type": "execute_result"
    }
   ],
   "source": [
    "Twitter_DF.drop(columns=['target'], inplace=True)\n",
    "Twitter_DF"
   ]
  },
  {
   "cell_type": "markdown",
   "id": "33e8f892",
   "metadata": {},
   "source": [
    "SAVE THE PROCESSED DATASET\n",
    "    Since the file is very big I have saved it into 4 files(to upload to GitHub Repository)"
   ]
  },
  {
   "cell_type": "code",
   "execution_count": 71,
   "id": "2aa90af0",
   "metadata": {},
   "outputs": [],
   "source": [
    "Twitter_DF.to_csv(r\"C:\\Users\\91939\\OneDrive\\Desktop\\Mentor_P8\\DATASETS\\TWITTER_SENTIMENT_ANALYSIS_PROCESSED.csv\")"
   ]
  },
  {
   "cell_type": "code",
   "execution_count": 76,
   "id": "6f407875",
   "metadata": {},
   "outputs": [],
   "source": [
    "Twitter_DF[:400000].to_csv(r\"C:\\Users\\91939\\OneDrive\\Desktop\\Mentor_P8\\DATASETS\\TWITTER_SENTIMENT_ANALYSIS_PROCESSED1.csv\",index=False)"
   ]
  },
  {
   "cell_type": "code",
   "execution_count": 77,
   "id": "08479fc9",
   "metadata": {},
   "outputs": [],
   "source": [
    "Twitter_DF[400000:800000].to_csv(r\"C:\\Users\\91939\\OneDrive\\Desktop\\Mentor_P8\\DATASETS\\TWITTER_SENTIMENT_ANALYSIS_PROCESSED2.csv\",index=False)"
   ]
  },
  {
   "cell_type": "code",
   "execution_count": 78,
   "id": "1133e56a",
   "metadata": {},
   "outputs": [],
   "source": [
    "Twitter_DF[800000:1200000].to_csv(r\"C:\\Users\\91939\\OneDrive\\Desktop\\Mentor_P8\\DATASETS\\TWITTER_SENTIMENT_ANALYSIS_PROCESSED3.csv\",index=False)"
   ]
  },
  {
   "cell_type": "code",
   "execution_count": 79,
   "id": "3a2fc195",
   "metadata": {},
   "outputs": [],
   "source": [
    "Twitter_DF[1200000:1600000].to_csv(r\"C:\\Users\\91939\\OneDrive\\Desktop\\Mentor_P8\\DATASETS\\TWITTER_SENTIMENT_ANALYSIS_PROCESSED4.csv\",index=False)"
   ]
  },
  {
   "cell_type": "markdown",
   "id": "38d651b8",
   "metadata": {},
   "source": [
    "MODEL TRAINING"
   ]
  },
  {
   "cell_type": "code",
   "execution_count": 41,
   "id": "eb84254a",
   "metadata": {},
   "outputs": [
    {
     "name": "stdout",
     "output_type": "stream",
     "text": [
      "IV_train : 1440000\n",
      "IV_test  : 160000\n",
      "DV_train : 1440000\n",
      "DV_test  : 160000\n"
     ]
    }
   ],
   "source": [
    "from sklearn.model_selection import train_test_split\n",
    "#Twitter_DF=pd.read_csv(r\"C:\\Users\\91939\\OneDrive\\Desktop\\Mentor_P8\\DATASETS\\TWITTER_SENTIMENT_ANALYSIS_PROCESSED.csv\")\n",
    "Independent_var = Twitter_DF['text'] \n",
    "Dependent_var = Twitter_DF['final_target']\n",
    "\n",
    "IV_train, IV_test, DV_train, DV_test = train_test_split(Independent_var, Dependent_var, test_size = 0.1, random_state = 225)\n",
    "\n",
    "print('IV_train :', len(IV_train))\n",
    "print('IV_test  :', len(IV_test))\n",
    "print('DV_train :', len(DV_train))\n",
    "print('DV_test  :', len(DV_test))"
   ]
  },
  {
   "cell_type": "code",
   "execution_count": 52,
   "id": "b6723aa6",
   "metadata": {},
   "outputs": [],
   "source": [
    "from sklearn.feature_extraction.text import TfidfVectorizer\n",
    "from sklearn.linear_model import LogisticRegression\n",
    "\n",
    "tvec = TfidfVectorizer()\n",
    "clf2 = LogisticRegression(solver = \"lbfgs\",max_iter=200000)\n",
    "\n",
    "from sklearn.pipeline import Pipeline"
   ]
  },
  {
   "cell_type": "code",
   "execution_count": 53,
   "id": "7483e9c7",
   "metadata": {},
   "outputs": [
    {
     "data": {
      "text/plain": [
       "array([[61428, 15832],\n",
       "       [18346, 64394]], dtype=int64)"
      ]
     },
     "execution_count": 53,
     "metadata": {},
     "output_type": "execute_result"
    }
   ],
   "source": [
    "model = Pipeline([('vectorizer',tvec),('classifier',clf2)])\n",
    "\n",
    "model.fit(IV_train, DV_train)\n",
    "\n",
    "from sklearn.metrics import confusion_matrix\n",
    "\n",
    "predictions = model.predict(IV_test)\n",
    "\n",
    "confusion_matrix(predictions, DV_test)"
   ]
  },
  {
   "cell_type": "markdown",
   "id": "e823948a",
   "metadata": {},
   "source": [
    "MODEL PREDICTION"
   ]
  },
  {
   "cell_type": "code",
   "execution_count": 54,
   "id": "1bedc246",
   "metadata": {},
   "outputs": [
    {
     "name": "stdout",
     "output_type": "stream",
     "text": [
      "Accuracy :  0.7863875\n",
      "Precision :  0.786900232987625\n",
      "Recall :  0.7863875\n"
     ]
    }
   ],
   "source": [
    "from sklearn.metrics import accuracy_score, precision_score, recall_score\n",
    "\n",
    "print(\"Accuracy : \", accuracy_score(predictions, DV_test))\n",
    "print(\"Precision : \", precision_score(predictions, DV_test, average = 'weighted'))\n",
    "print(\"Recall : \", recall_score(predictions, DV_test, average = 'weighted'))"
   ]
  },
  {
   "cell_type": "markdown",
   "id": "b427cf4e",
   "metadata": {},
   "source": [
    "TRY NEW VALUES"
   ]
  },
  {
   "cell_type": "code",
   "execution_count": 55,
   "id": "ca79eb44",
   "metadata": {},
   "outputs": [
    {
     "name": "stdout",
     "output_type": "stream",
     "text": [
      "[2]\n"
     ]
    }
   ],
   "source": [
    "example = [\"OHH ITS WONDERFUL\"]\n",
    "result = model.predict(example)\n",
    "print(result)"
   ]
  }
 ],
 "metadata": {
  "kernelspec": {
   "display_name": "Python 3 (ipykernel)",
   "language": "python",
   "name": "python3"
  },
  "language_info": {
   "codemirror_mode": {
    "name": "ipython",
    "version": 3
   },
   "file_extension": ".py",
   "mimetype": "text/x-python",
   "name": "python",
   "nbconvert_exporter": "python",
   "pygments_lexer": "ipython3",
   "version": "3.9.13"
  }
 },
 "nbformat": 4,
 "nbformat_minor": 5
}
